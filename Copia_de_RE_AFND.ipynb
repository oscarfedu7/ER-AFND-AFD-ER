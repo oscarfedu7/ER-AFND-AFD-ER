{
  "cells": [
    {
      "cell_type": "markdown",
      "metadata": {
        "id": "view-in-github",
        "colab_type": "text"
      },
      "source": [
        "<a href=\"https://colab.research.google.com/github/oscarfedu7/ER-AFND-AFD-ER/blob/main/Copia_de_RE_AFND.ipynb\" target=\"_parent\"><img src=\"https://colab.research.google.com/assets/colab-badge.svg\" alt=\"Open In Colab\"/></a>"
      ]
    },
    {
      "cell_type": "code",
      "execution_count": 1,
      "metadata": {
        "id": "PWAW19TlvntF",
        "colab": {
          "base_uri": "https://localhost:8080/"
        },
        "outputId": "c217ea57-e8be-4594-b0c8-bbaa4068875a"
      },
      "outputs": [
        {
          "name": "stdout",
          "output_type": "stream",
          "text": [
            "(a.b)*\n",
            "ababab\n"
          ]
        }
      ],
      "source": [
        "P=input()\n",
        "palabra=input()"
      ]
    },
    {
      "cell_type": "markdown",
      "source": [
        "# ER-AFND"
      ],
      "metadata": {
        "id": "GeFsfIRED63b"
      }
    },
    {
      "cell_type": "markdown",
      "source": [
        "### aa"
      ],
      "metadata": {
        "id": "3r7oiyzXDlcL"
      }
    },
    {
      "cell_type": "code",
      "source": [
        "abc=[\"e\",\"a\",\"b\"]\n",
        "\n",
        "cont=0;\n",
        "tam=len(P);\n",
        "k=0\n",
        "import numpy as np\n",
        "sigma=[\"(\",\")\",\"|\",\"*\",\".\",\" \"]"
      ],
      "metadata": {
        "id": "pTwiLyf5Dijj"
      },
      "execution_count": 2,
      "outputs": []
    },
    {
      "cell_type": "markdown",
      "metadata": {
        "id": "adVSC1OznIC7"
      },
      "source": [
        "### Aplanar una **lista**"
      ]
    },
    {
      "cell_type": "code",
      "execution_count": 3,
      "metadata": {
        "id": "yIt5k-sDnK1o"
      },
      "outputs": [],
      "source": [
        "def aplanar(_2d_list):\n",
        "    flat_list = []\n",
        "    # Iterate through the outer list\n",
        "    for element in _2d_list:\n",
        "        if type(element) is list:\n",
        "            # If the element is of type list, iterate through the sublist\n",
        "            for item in element:\n",
        "                flat_list.append(item)\n",
        "        else:\n",
        "            flat_list.append(element)\n",
        "    return flat_list"
      ]
    },
    {
      "cell_type": "markdown",
      "metadata": {
        "id": "ol09njmkve77"
      },
      "source": [
        "## Método E"
      ]
    },
    {
      "cell_type": "code",
      "execution_count": 4,
      "metadata": {
        "id": "y4wfl6NgtGYd"
      },
      "outputs": [],
      "source": [
        "def E(P):\n",
        "  global k\n",
        "  global cont\n",
        "  A1 = T(P);\n",
        "  if(cont >= tam):\n",
        "    return A1\n",
        "  if(P[cont] == \"|\"):\n",
        "    \n",
        "    A2 = E(P);\n",
        "    cont+=1\n",
        "    A1 = OR(A1,A2);\n",
        "\n",
        "  return A1  "
      ]
    },
    {
      "cell_type": "markdown",
      "metadata": {
        "id": "pYP_zeElvdxY"
      },
      "source": [
        "## Método T"
      ]
    },
    {
      "cell_type": "code",
      "execution_count": 5,
      "metadata": {
        "id": "auDxxuwIv8z2"
      },
      "outputs": [],
      "source": [
        "def T(P):\n",
        "  global k\n",
        "  global cont\n",
        "  A1 = G(P)\n",
        "  if(cont >= tam):\n",
        "    return A1\n",
        "  if(P[cont] == \".\"):   \n",
        "    A2 = T(P)\n",
        "    cont+=1\n",
        "    A1 = Concat(A1,A2)\n",
        "\n",
        "  return A1"
      ]
    },
    {
      "cell_type": "markdown",
      "metadata": {
        "id": "G9y1lO2jyauy"
      },
      "source": [
        "## Método G"
      ]
    },
    {
      "cell_type": "code",
      "execution_count": 6,
      "metadata": {
        "id": "biNV3Vbxyenx"
      },
      "outputs": [],
      "source": [
        "def G(P):\n",
        "  global k\n",
        "  global cont\n",
        "  A1 = F(P)\n",
        "  if(cont >= tam):\n",
        "    return A1\n",
        "  if(P[cont] == \"*\"):\n",
        "    cont+=1\n",
        "    A1 = Estrella(A1) \n",
        "  return A1"
      ]
    },
    {
      "cell_type": "markdown",
      "metadata": {
        "id": "PH7HfcT9ziIz"
      },
      "source": [
        "## Método F"
      ]
    },
    {
      "cell_type": "code",
      "execution_count": 7,
      "metadata": {
        "id": "Z6NhKSK3yYyJ"
      },
      "outputs": [],
      "source": [
        "def F(P):\n",
        "  global k\n",
        "  global cont\n",
        "  if(P[cont] in abc):\n",
        "    A = creaAutomata(P[cont])\n",
        "    cont+=1\n",
        "    return A \n",
        "  elif(P[cont] in sigma):\n",
        "    cont+=1\n",
        "    A = E(P)\n",
        "  return A;"
      ]
    },
    {
      "cell_type": "markdown",
      "metadata": {
        "id": "CbERo-ACH3lb"
      },
      "source": [
        "## Automata"
      ]
    },
    {
      "cell_type": "code",
      "execution_count": 8,
      "metadata": {
        "id": "N2zd9DFHH7DS"
      },
      "outputs": [],
      "source": [
        "class Automata:\n",
        "  def __init__(self):\n",
        "    self.K=[]\n",
        "    self.abc=[]\n",
        "    self.s=0\n",
        "    self.F=[]\n",
        "    self.d=[]\n",
        "\n",
        "\n",
        "\n",
        "\n",
        "\n"
      ]
    },
    {
      "cell_type": "markdown",
      "metadata": {
        "id": "C7USyeRkT96j"
      },
      "source": [
        "## Crea Automata"
      ]
    },
    {
      "cell_type": "code",
      "execution_count": 9,
      "metadata": {
        "id": "Ao3wp8q0T9G6"
      },
      "outputs": [],
      "source": [
        "def creaAutomata(letra):\n",
        "  global k\n",
        "  autom = Automata()\n",
        "  autom.K.append(k)\n",
        "  autom.K.append(k+1)\n",
        "  autom.s=k\n",
        "  autom.F.append(k+1)\n",
        "  a=[k,letra,k+1]\n",
        "  autom.d.append(a)\n",
        "  k+=2\n",
        "  return autom\n"
      ]
    },
    {
      "cell_type": "markdown",
      "metadata": {
        "id": "G2yazfHUcxw-"
      },
      "source": [
        "## Método OR"
      ]
    },
    {
      "cell_type": "code",
      "execution_count": 10,
      "metadata": {
        "id": "sf1bd8mscxIt"
      },
      "outputs": [],
      "source": [
        "def OR(A1,A2):\n",
        "  global k\n",
        "  A = Automata()\n",
        "  d1=[k,\"e\",A1.s]\n",
        "  d2=[k,\"e\",A2.s]\n",
        "  d3=[A1.F[0],\"e\",k+1]\n",
        "  d4=[A2.F[0],\"e\",k+1]\n",
        "  A.d.append(d1)\n",
        "  A.d.append(d2)\n",
        "  A.d.extend(A1.d)\n",
        "  A.d.extend(A2.d)\n",
        "  A.d.append(d3)\n",
        "  A.d.append(d4)\n",
        "\n",
        "  A.K.append(k)\n",
        "  A.K.append(k+1)\n",
        "  A.K.append(A1.K)\n",
        "  A.K.append(A2.K)\n",
        "  A.K=aplanar(A.K)\n",
        "\n",
        "  A.F.append(k+1)\n",
        "  A.s = k\n",
        "  k+=2\n",
        "  \n",
        "  return A\n"
      ]
    },
    {
      "cell_type": "markdown",
      "metadata": {
        "id": "06QnMKvzqBiB"
      },
      "source": [
        "## Método Concat"
      ]
    },
    {
      "cell_type": "code",
      "execution_count": 11,
      "metadata": {
        "id": "XWdoXkiQqEy_"
      },
      "outputs": [],
      "source": [
        "def Concat(A1,A2):\n",
        "  global k\n",
        "  A = Automata()\n",
        "\n",
        "  A.d.extend(A1.d)\n",
        "  A.d.extend(A2.d)\n",
        "  d1=[A1.F[0],\"e\",A2.s]\n",
        "  A.d.append(d1)\n",
        "\n",
        "\n",
        "  A.K.append(A1.K)\n",
        "  A.K.append(A2.K)\n",
        "  A.K=aplanar(A.K)\n",
        "\n",
        "  A.F.append(A2.F)\n",
        "  A.F=aplanar(A.F)\n",
        "\n",
        "  A.s = A1.s\n",
        "  return A\n"
      ]
    },
    {
      "cell_type": "markdown",
      "metadata": {
        "id": "ZXeRr_y84-pj"
      },
      "source": [
        "## Estrella"
      ]
    },
    {
      "cell_type": "code",
      "execution_count": 12,
      "metadata": {
        "id": "bHdmCg5G5BOe"
      },
      "outputs": [],
      "source": [
        "def Estrella(A1):\n",
        "  global k\n",
        "  A = Automata()\n",
        "\n",
        "  A.d.extend(A1.d)\n",
        "  d1=[k,\"e\",A1.s]\n",
        "  d2=[A1.F[0],\"e\",k+1]\n",
        "  d3=[k,\"e\",k+1]\n",
        "  d4=[A1.F[0],\"e\",A1.s]\n",
        "  A.d.append(d1)\n",
        "  A.d.append(d2)\n",
        "  A.d.append(d3)\n",
        "  A.d.append(d4)\n",
        "\n",
        "  A.K.append(k)\n",
        "  A.K.append(A1.K)\n",
        "  A.K.append(k+1)\n",
        "  A.K=aplanar(A.K)\n",
        "\n",
        "  A.F.append(k+1)\n",
        "  A.s = k\n",
        "  k+=2\n",
        "  return A"
      ]
    },
    {
      "cell_type": "code",
      "execution_count": 13,
      "metadata": {
        "id": "C2SPgFty96oR",
        "colab": {
          "base_uri": "https://localhost:8080/"
        },
        "outputId": "ab332aa2-667f-4580-b6de-8d5c8288e213"
      },
      "outputs": [
        {
          "output_type": "stream",
          "name": "stdout",
          "text": [
            "El autonoma de la expresion regular (a.b)* está definido por: \n",
            "Alfabeto: \n",
            "['e', 'a', 'b']\n",
            "Delta:\n",
            "[[0, 'a', 1], [2, 'b', 3], [1, 'e', 2], [4, 'e', 0], [3, 'e', 5], [4, 'e', 5], [3, 'e', 0]]\n",
            "Estados: \n",
            "[0, 1, 2, 3, 4, 5]\n",
            "Estado Inicial: \n",
            "4\n",
            "Estados finales: \n",
            "[5]\n"
          ]
        }
      ],
      "source": [
        "prueba=E(P)\n",
        "prueba.K.sort()\n",
        "print(\"El autonoma de la expresion regular \"+P+\" está definido por: \")\n",
        "print(\"Alfabeto: \")\n",
        "print(abc)\n",
        "print(\"Delta:\")\n",
        "print(prueba.d)\n",
        "print(\"Estados: \")\n",
        "print(prueba.K)\n",
        "print(\"Estado Inicial: \")\n",
        "print(prueba.s)\n",
        "print(\"Estados finales: \")\n",
        "print(prueba.F)\n"
      ]
    },
    {
      "cell_type": "markdown",
      "metadata": {
        "id": "08Shxut2lzRG"
      },
      "source": [
        "## Hacer tabla de transiciones "
      ]
    },
    {
      "cell_type": "markdown",
      "metadata": {
        "id": "BSIWNdfrEae5"
      },
      "source": [
        "## Tabla de transiciones con arrays numpy"
      ]
    },
    {
      "cell_type": "code",
      "execution_count": 14,
      "metadata": {
        "id": "ZO8wl_cU-kwP",
        "colab": {
          "base_uri": "https://localhost:8080/",
          "height": 0
        },
        "outputId": "88541e47-8869-4771-b7b1-8e32bd3f78d9"
      },
      "outputs": [
        {
          "output_type": "stream",
          "name": "stderr",
          "text": [
            "/usr/local/lib/python3.7/dist-packages/ipykernel_launcher.py:21: SettingWithCopyWarning: \n",
            "A value is trying to be set on a copy of a slice from a DataFrame\n",
            "\n",
            "See the caveats in the documentation: https://pandas.pydata.org/pandas-docs/stable/user_guide/indexing.html#returning-a-view-versus-a-copy\n"
          ]
        },
        {
          "output_type": "execute_result",
          "data": {
            "text/html": [
              "\n",
              "  <div id=\"df-e7902b72-714a-4b65-b747-6be1c050c4a8\">\n",
              "    <div class=\"colab-df-container\">\n",
              "      <div>\n",
              "<style scoped>\n",
              "    .dataframe tbody tr th:only-of-type {\n",
              "        vertical-align: middle;\n",
              "    }\n",
              "\n",
              "    .dataframe tbody tr th {\n",
              "        vertical-align: top;\n",
              "    }\n",
              "\n",
              "    .dataframe thead th {\n",
              "        text-align: right;\n",
              "    }\n",
              "</style>\n",
              "<table border=\"1\" class=\"dataframe\">\n",
              "  <thead>\n",
              "    <tr style=\"text-align: right;\">\n",
              "      <th></th>\n",
              "      <th>e</th>\n",
              "      <th>a</th>\n",
              "      <th>b</th>\n",
              "      <th>Q</th>\n",
              "    </tr>\n",
              "    <tr>\n",
              "      <th>Q</th>\n",
              "      <th></th>\n",
              "      <th></th>\n",
              "      <th></th>\n",
              "      <th></th>\n",
              "    </tr>\n",
              "  </thead>\n",
              "  <tbody>\n",
              "    <tr>\n",
              "      <th>0</th>\n",
              "      <td>[]</td>\n",
              "      <td>[1.0]</td>\n",
              "      <td>[]</td>\n",
              "      <td>0</td>\n",
              "    </tr>\n",
              "    <tr>\n",
              "      <th>1</th>\n",
              "      <td>[2.0]</td>\n",
              "      <td>[]</td>\n",
              "      <td>[]</td>\n",
              "      <td>1</td>\n",
              "    </tr>\n",
              "    <tr>\n",
              "      <th>2</th>\n",
              "      <td>[]</td>\n",
              "      <td>[]</td>\n",
              "      <td>[3.0]</td>\n",
              "      <td>2</td>\n",
              "    </tr>\n",
              "    <tr>\n",
              "      <th>3</th>\n",
              "      <td>[5.0, 0.0]</td>\n",
              "      <td>[]</td>\n",
              "      <td>[]</td>\n",
              "      <td>3</td>\n",
              "    </tr>\n",
              "    <tr>\n",
              "      <th>4</th>\n",
              "      <td>[0.0, 5.0]</td>\n",
              "      <td>[]</td>\n",
              "      <td>[]</td>\n",
              "      <td>4</td>\n",
              "    </tr>\n",
              "    <tr>\n",
              "      <th>5</th>\n",
              "      <td>[]</td>\n",
              "      <td>[]</td>\n",
              "      <td>[]</td>\n",
              "      <td>5</td>\n",
              "    </tr>\n",
              "  </tbody>\n",
              "</table>\n",
              "</div>\n",
              "      <button class=\"colab-df-convert\" onclick=\"convertToInteractive('df-e7902b72-714a-4b65-b747-6be1c050c4a8')\"\n",
              "              title=\"Convert this dataframe to an interactive table.\"\n",
              "              style=\"display:none;\">\n",
              "        \n",
              "  <svg xmlns=\"http://www.w3.org/2000/svg\" height=\"24px\"viewBox=\"0 0 24 24\"\n",
              "       width=\"24px\">\n",
              "    <path d=\"M0 0h24v24H0V0z\" fill=\"none\"/>\n",
              "    <path d=\"M18.56 5.44l.94 2.06.94-2.06 2.06-.94-2.06-.94-.94-2.06-.94 2.06-2.06.94zm-11 1L8.5 8.5l.94-2.06 2.06-.94-2.06-.94L8.5 2.5l-.94 2.06-2.06.94zm10 10l.94 2.06.94-2.06 2.06-.94-2.06-.94-.94-2.06-.94 2.06-2.06.94z\"/><path d=\"M17.41 7.96l-1.37-1.37c-.4-.4-.92-.59-1.43-.59-.52 0-1.04.2-1.43.59L10.3 9.45l-7.72 7.72c-.78.78-.78 2.05 0 2.83L4 21.41c.39.39.9.59 1.41.59.51 0 1.02-.2 1.41-.59l7.78-7.78 2.81-2.81c.8-.78.8-2.07 0-2.86zM5.41 20L4 18.59l7.72-7.72 1.47 1.35L5.41 20z\"/>\n",
              "  </svg>\n",
              "      </button>\n",
              "      \n",
              "  <style>\n",
              "    .colab-df-container {\n",
              "      display:flex;\n",
              "      flex-wrap:wrap;\n",
              "      gap: 12px;\n",
              "    }\n",
              "\n",
              "    .colab-df-convert {\n",
              "      background-color: #E8F0FE;\n",
              "      border: none;\n",
              "      border-radius: 50%;\n",
              "      cursor: pointer;\n",
              "      display: none;\n",
              "      fill: #1967D2;\n",
              "      height: 32px;\n",
              "      padding: 0 0 0 0;\n",
              "      width: 32px;\n",
              "    }\n",
              "\n",
              "    .colab-df-convert:hover {\n",
              "      background-color: #E2EBFA;\n",
              "      box-shadow: 0px 1px 2px rgba(60, 64, 67, 0.3), 0px 1px 3px 1px rgba(60, 64, 67, 0.15);\n",
              "      fill: #174EA6;\n",
              "    }\n",
              "\n",
              "    [theme=dark] .colab-df-convert {\n",
              "      background-color: #3B4455;\n",
              "      fill: #D2E3FC;\n",
              "    }\n",
              "\n",
              "    [theme=dark] .colab-df-convert:hover {\n",
              "      background-color: #434B5C;\n",
              "      box-shadow: 0px 1px 3px 1px rgba(0, 0, 0, 0.15);\n",
              "      filter: drop-shadow(0px 1px 2px rgba(0, 0, 0, 0.3));\n",
              "      fill: #FFFFFF;\n",
              "    }\n",
              "  </style>\n",
              "\n",
              "      <script>\n",
              "        const buttonEl =\n",
              "          document.querySelector('#df-e7902b72-714a-4b65-b747-6be1c050c4a8 button.colab-df-convert');\n",
              "        buttonEl.style.display =\n",
              "          google.colab.kernel.accessAllowed ? 'block' : 'none';\n",
              "\n",
              "        async function convertToInteractive(key) {\n",
              "          const element = document.querySelector('#df-e7902b72-714a-4b65-b747-6be1c050c4a8');\n",
              "          const dataTable =\n",
              "            await google.colab.kernel.invokeFunction('convertToInteractive',\n",
              "                                                     [key], {});\n",
              "          if (!dataTable) return;\n",
              "\n",
              "          const docLinkHtml = 'Like what you see? Visit the ' +\n",
              "            '<a target=\"_blank\" href=https://colab.research.google.com/notebooks/data_table.ipynb>data table notebook</a>'\n",
              "            + ' to learn more about interactive tables.';\n",
              "          element.innerHTML = '';\n",
              "          dataTable['output_type'] = 'display_data';\n",
              "          await google.colab.output.renderOutput(dataTable, element);\n",
              "          const docLink = document.createElement('div');\n",
              "          docLink.innerHTML = docLinkHtml;\n",
              "          element.appendChild(docLink);\n",
              "        }\n",
              "      </script>\n",
              "    </div>\n",
              "  </div>\n",
              "  "
            ],
            "text/plain": [
              "            e      a      b  Q\n",
              "Q                             \n",
              "0          []  [1.0]     []  0\n",
              "1       [2.0]     []     []  1\n",
              "2          []     []  [3.0]  2\n",
              "3  [5.0, 0.0]     []     []  3\n",
              "4  [0.0, 5.0]     []     []  4\n",
              "5          []     []     []  5"
            ]
          },
          "metadata": {},
          "execution_count": 14
        }
      ],
      "source": [
        "import pandas as pd\n",
        "import numpy as np\n",
        "tablaTND = pd.DataFrame()\n",
        "tablaTND['Q']= None\n",
        "for x in abc:\n",
        "  tablaTND[x] = []\n",
        "\n",
        "tablaTND.set_index(\"Q\",inplace = True)\n",
        "tablaTND[\"Q\"]=prueba.K\n",
        "\n",
        "a=[]\n",
        "for i in range(len(prueba.K)):\n",
        "  a.append(np.array([])) \n",
        "for x in abc:\n",
        "  tablaTND[x] = a\n",
        "\n",
        "\n",
        "for estado in prueba.K:\n",
        "  for trans in prueba.d:\n",
        "   if(estado == trans[0]):\n",
        "    tablaTND[trans[1]][estado]=np.append(tablaTND[trans[1]][estado],trans[2])\n",
        "  \n",
        "\n",
        "tablaTND\n"
      ]
    },
    {
      "cell_type": "markdown",
      "metadata": {
        "id": "9zThUZ0xEfm1"
      },
      "source": [
        "## Tabla de transiciones con pandas"
      ]
    },
    {
      "cell_type": "code",
      "execution_count": 15,
      "metadata": {
        "id": "DRfgjqfm9FfH",
        "colab": {
          "base_uri": "https://localhost:8080/",
          "height": 0
        },
        "outputId": "b7f0da16-b1ae-4772-ac3b-8106697adb2c"
      },
      "outputs": [
        {
          "output_type": "stream",
          "name": "stderr",
          "text": [
            "/usr/local/lib/python3.7/dist-packages/ipykernel_launcher.py:24: SettingWithCopyWarning: \n",
            "A value is trying to be set on a copy of a slice from a DataFrame\n",
            "\n",
            "See the caveats in the documentation: https://pandas.pydata.org/pandas-docs/stable/user_guide/indexing.html#returning-a-view-versus-a-copy\n"
          ]
        },
        {
          "output_type": "execute_result",
          "data": {
            "text/html": [
              "\n",
              "  <div id=\"df-aecc6c25-736f-4cbf-b2ee-965777d5568b\">\n",
              "    <div class=\"colab-df-container\">\n",
              "      <div>\n",
              "<style scoped>\n",
              "    .dataframe tbody tr th:only-of-type {\n",
              "        vertical-align: middle;\n",
              "    }\n",
              "\n",
              "    .dataframe tbody tr th {\n",
              "        vertical-align: top;\n",
              "    }\n",
              "\n",
              "    .dataframe thead th {\n",
              "        text-align: right;\n",
              "    }\n",
              "</style>\n",
              "<table border=\"1\" class=\"dataframe\">\n",
              "  <thead>\n",
              "    <tr style=\"text-align: right;\">\n",
              "      <th></th>\n",
              "      <th>e</th>\n",
              "      <th>a</th>\n",
              "      <th>b</th>\n",
              "      <th>Q</th>\n",
              "    </tr>\n",
              "    <tr>\n",
              "      <th>Q</th>\n",
              "      <th></th>\n",
              "      <th></th>\n",
              "      <th></th>\n",
              "      <th></th>\n",
              "    </tr>\n",
              "  </thead>\n",
              "  <tbody>\n",
              "    <tr>\n",
              "      <th>0</th>\n",
              "      <td>[]</td>\n",
              "      <td>[1]</td>\n",
              "      <td>[]</td>\n",
              "      <td>0</td>\n",
              "    </tr>\n",
              "    <tr>\n",
              "      <th>1</th>\n",
              "      <td>[2]</td>\n",
              "      <td>[]</td>\n",
              "      <td>[]</td>\n",
              "      <td>1</td>\n",
              "    </tr>\n",
              "    <tr>\n",
              "      <th>2</th>\n",
              "      <td>[]</td>\n",
              "      <td>[]</td>\n",
              "      <td>[3]</td>\n",
              "      <td>2</td>\n",
              "    </tr>\n",
              "    <tr>\n",
              "      <th>3</th>\n",
              "      <td>[5, 0]</td>\n",
              "      <td>[]</td>\n",
              "      <td>[]</td>\n",
              "      <td>3</td>\n",
              "    </tr>\n",
              "    <tr>\n",
              "      <th>4</th>\n",
              "      <td>[0, 5]</td>\n",
              "      <td>[]</td>\n",
              "      <td>[]</td>\n",
              "      <td>4</td>\n",
              "    </tr>\n",
              "    <tr>\n",
              "      <th>5</th>\n",
              "      <td>[]</td>\n",
              "      <td>[]</td>\n",
              "      <td>[]</td>\n",
              "      <td>5</td>\n",
              "    </tr>\n",
              "  </tbody>\n",
              "</table>\n",
              "</div>\n",
              "      <button class=\"colab-df-convert\" onclick=\"convertToInteractive('df-aecc6c25-736f-4cbf-b2ee-965777d5568b')\"\n",
              "              title=\"Convert this dataframe to an interactive table.\"\n",
              "              style=\"display:none;\">\n",
              "        \n",
              "  <svg xmlns=\"http://www.w3.org/2000/svg\" height=\"24px\"viewBox=\"0 0 24 24\"\n",
              "       width=\"24px\">\n",
              "    <path d=\"M0 0h24v24H0V0z\" fill=\"none\"/>\n",
              "    <path d=\"M18.56 5.44l.94 2.06.94-2.06 2.06-.94-2.06-.94-.94-2.06-.94 2.06-2.06.94zm-11 1L8.5 8.5l.94-2.06 2.06-.94-2.06-.94L8.5 2.5l-.94 2.06-2.06.94zm10 10l.94 2.06.94-2.06 2.06-.94-2.06-.94-.94-2.06-.94 2.06-2.06.94z\"/><path d=\"M17.41 7.96l-1.37-1.37c-.4-.4-.92-.59-1.43-.59-.52 0-1.04.2-1.43.59L10.3 9.45l-7.72 7.72c-.78.78-.78 2.05 0 2.83L4 21.41c.39.39.9.59 1.41.59.51 0 1.02-.2 1.41-.59l7.78-7.78 2.81-2.81c.8-.78.8-2.07 0-2.86zM5.41 20L4 18.59l7.72-7.72 1.47 1.35L5.41 20z\"/>\n",
              "  </svg>\n",
              "      </button>\n",
              "      \n",
              "  <style>\n",
              "    .colab-df-container {\n",
              "      display:flex;\n",
              "      flex-wrap:wrap;\n",
              "      gap: 12px;\n",
              "    }\n",
              "\n",
              "    .colab-df-convert {\n",
              "      background-color: #E8F0FE;\n",
              "      border: none;\n",
              "      border-radius: 50%;\n",
              "      cursor: pointer;\n",
              "      display: none;\n",
              "      fill: #1967D2;\n",
              "      height: 32px;\n",
              "      padding: 0 0 0 0;\n",
              "      width: 32px;\n",
              "    }\n",
              "\n",
              "    .colab-df-convert:hover {\n",
              "      background-color: #E2EBFA;\n",
              "      box-shadow: 0px 1px 2px rgba(60, 64, 67, 0.3), 0px 1px 3px 1px rgba(60, 64, 67, 0.15);\n",
              "      fill: #174EA6;\n",
              "    }\n",
              "\n",
              "    [theme=dark] .colab-df-convert {\n",
              "      background-color: #3B4455;\n",
              "      fill: #D2E3FC;\n",
              "    }\n",
              "\n",
              "    [theme=dark] .colab-df-convert:hover {\n",
              "      background-color: #434B5C;\n",
              "      box-shadow: 0px 1px 3px 1px rgba(0, 0, 0, 0.15);\n",
              "      filter: drop-shadow(0px 1px 2px rgba(0, 0, 0, 0.3));\n",
              "      fill: #FFFFFF;\n",
              "    }\n",
              "  </style>\n",
              "\n",
              "      <script>\n",
              "        const buttonEl =\n",
              "          document.querySelector('#df-aecc6c25-736f-4cbf-b2ee-965777d5568b button.colab-df-convert');\n",
              "        buttonEl.style.display =\n",
              "          google.colab.kernel.accessAllowed ? 'block' : 'none';\n",
              "\n",
              "        async function convertToInteractive(key) {\n",
              "          const element = document.querySelector('#df-aecc6c25-736f-4cbf-b2ee-965777d5568b');\n",
              "          const dataTable =\n",
              "            await google.colab.kernel.invokeFunction('convertToInteractive',\n",
              "                                                     [key], {});\n",
              "          if (!dataTable) return;\n",
              "\n",
              "          const docLinkHtml = 'Like what you see? Visit the ' +\n",
              "            '<a target=\"_blank\" href=https://colab.research.google.com/notebooks/data_table.ipynb>data table notebook</a>'\n",
              "            + ' to learn more about interactive tables.';\n",
              "          element.innerHTML = '';\n",
              "          dataTable['output_type'] = 'display_data';\n",
              "          await google.colab.output.renderOutput(dataTable, element);\n",
              "          const docLink = document.createElement('div');\n",
              "          docLink.innerHTML = docLinkHtml;\n",
              "          element.appendChild(docLink);\n",
              "        }\n",
              "      </script>\n",
              "    </div>\n",
              "  </div>\n",
              "  "
            ],
            "text/plain": [
              "        e    a    b  Q\n",
              "Q                     \n",
              "0      []  [1]   []  0\n",
              "1     [2]   []   []  1\n",
              "2      []   []  [3]  2\n",
              "3  [5, 0]   []   []  3\n",
              "4  [0, 5]   []   []  4\n",
              "5      []   []   []  5"
            ]
          },
          "metadata": {},
          "execution_count": 15
        }
      ],
      "source": [
        "import pandas as pd\n",
        "\n",
        "tablaTND = pd.DataFrame()\n",
        "tablaTND['Q']= None\n",
        "for x in abc:\n",
        "  tablaTND[x] = []\n",
        "\n",
        "tablaTND.set_index(\"Q\",inplace = True)\n",
        "tablaTND[\"Q\"]=prueba.K\n",
        "\n",
        "a=[]\n",
        "for i in range(len(prueba.K)):\n",
        "  a.append([]) \n",
        "for x in abc:\n",
        "  tablaTND[x] = a\n",
        "\n",
        "\n",
        "for estado in prueba.K:\n",
        "  for trans in prueba.d:\n",
        "   if(estado == trans[0]):\n",
        "    c=[]\n",
        "    c.append(trans[2])\n",
        "    b=tablaTND[trans[1]][estado]+c\n",
        "    tablaTND[trans[1]][estado]=b\n",
        "  \n",
        "\n",
        "tablaTND"
      ]
    },
    {
      "cell_type": "markdown",
      "metadata": {
        "id": "8QSEvjS5EulY"
      },
      "source": [
        "# AFND-AFD"
      ]
    },
    {
      "cell_type": "markdown",
      "metadata": {
        "id": "aJoChbm0kDYN"
      },
      "source": [
        "## Clase clausura"
      ]
    },
    {
      "cell_type": "code",
      "execution_count": 16,
      "metadata": {
        "id": "_-pl6EnGJMEW"
      },
      "outputs": [],
      "source": [
        "class Clausura:\n",
        "  def __init__(self):\n",
        "    self.clausura1=[]\n",
        "    self.clausura2=[]\n",
        "\n",
        "  def isEmpty(self):\n",
        "    return (len(self.clausura1)==0 and len(self.clausura2)==0)\n",
        "  \n",
        "  def __str__(self):\n",
        "    return str(self.clausura1) + \",\" + str(self.clausura2)\n"
      ]
    },
    {
      "cell_type": "markdown",
      "metadata": {
        "id": "zb1wBw7PIAAj"
      },
      "source": [
        "## Crear clausulas respecto a epsilon"
      ]
    },
    {
      "cell_type": "code",
      "execution_count": 17,
      "metadata": {
        "id": "4hVloGbQH-is",
        "colab": {
          "base_uri": "https://localhost:8080/"
        },
        "outputId": "841600e8-f132-47d0-f748-3c22a4fd93c0"
      },
      "outputs": [
        {
          "output_type": "stream",
          "name": "stdout",
          "text": [
            "[0],[]\n",
            "[1],[2]\n",
            "[2],[]\n",
            "[3],[0, 5]\n",
            "[4],[5, 0]\n",
            "[5],[]\n"
          ]
        }
      ],
      "source": [
        "cEps = []\n",
        "clausura = Clausura()\n",
        "for x in prueba.K:\n",
        " # cEps.append([]\n",
        " cEps.append(Clausura())\n",
        "\n",
        "\n",
        "pila=[]\n",
        "for x in prueba.K:\n",
        "  cEps[x].clausura1.append(x)#quizá no es necesario\n",
        "  pila.append(tablaTND[\"e\"][x])\n",
        "  pila=aplanar(pila)\n",
        "  while pila:\n",
        "    a=pila.pop()\n",
        "    if not(a in cEps[x].clausura2):  #quizá se quita\n",
        "      cEps[x].clausura2.append(a)\n",
        "      pila.append(tablaTND[\"e\"][a])\n",
        "    pila=aplanar(pila)\n",
        "\n",
        "\n",
        "for i in range(len(cEps)):\n",
        "  print(str(cEps[i]))\n",
        "\n",
        "\n"
      ]
    },
    {
      "cell_type": "markdown",
      "metadata": {
        "id": "qc0gngE1wHz3"
      },
      "source": [
        "## Conversión AFND A AFD"
      ]
    },
    {
      "cell_type": "code",
      "execution_count": 18,
      "metadata": {
        "id": "qTJ4kvpvNDL2"
      },
      "outputs": [],
      "source": [
        "def E2(epsilon):\n",
        "  global j\n",
        "  global tablaTND\n",
        "  global tablaTD\n",
        "  global i #creo\n",
        "  #Checar lo de e\n",
        "  i_pasados=[] ##nuevo\n",
        "  i_pasados.append(prueba.s)\n",
        "  pila2=[]\n",
        "  pila2+=epsilon\n",
        "  pila2=aplanar(pila2)\n",
        "  \n",
        "  while pila2:\n",
        "    i=pila2.pop()\n",
        "    if not(i in i_pasados): #nuevo\n",
        "      i_pasados.append(i) ##nuevo\n",
        "      #Checar a\n",
        "      if tablaTND[\"a\"][i]:\n",
        "        tablaTD[\"a\"][j].clausura1 += tablaTND[\"a\"][i]\n",
        "      #Checar b\n",
        "      if tablaTND[\"b\"][i]:\n",
        "        tablaTD[\"b\"][j].clausura1 += tablaTND[\"b\"][i]\n",
        "      pila2.append(tablaTND[\"e\"][i])\n",
        "      pila2=aplanar(pila2)\n",
        "  for x in tablaTD[\"a\"][j].clausura1:\n",
        "    tablaTD[\"a\"][j].clausura2 += cEps[x].clausura2  \n",
        "  for x in tablaTD[\"b\"][j].clausura1:\n",
        "    tablaTD[\"b\"][j].clausura2 += cEps[x].clausura2  "
      ]
    },
    {
      "cell_type": "code",
      "execution_count": 19,
      "metadata": {
        "id": "f81ZyzcYoBlJ",
        "colab": {
          "base_uri": "https://localhost:8080/",
          "height": 0
        },
        "outputId": "6a4a983b-9444-4a27-eb11-6147a1a276f4"
      },
      "outputs": [
        {
          "output_type": "execute_result",
          "data": {
            "text/html": [
              "\n",
              "  <div id=\"df-1660a07c-b7bd-46db-bb0b-2eb50f88fd96\">\n",
              "    <div class=\"colab-df-container\">\n",
              "      <div>\n",
              "<style scoped>\n",
              "    .dataframe tbody tr th:only-of-type {\n",
              "        vertical-align: middle;\n",
              "    }\n",
              "\n",
              "    .dataframe tbody tr th {\n",
              "        vertical-align: top;\n",
              "    }\n",
              "\n",
              "    .dataframe thead th {\n",
              "        text-align: right;\n",
              "    }\n",
              "</style>\n",
              "<table border=\"1\" class=\"dataframe\">\n",
              "  <thead>\n",
              "    <tr style=\"text-align: right;\">\n",
              "      <th></th>\n",
              "      <th>Estados</th>\n",
              "      <th>a</th>\n",
              "      <th>b</th>\n",
              "    </tr>\n",
              "  </thead>\n",
              "  <tbody>\n",
              "    <tr>\n",
              "      <th>0</th>\n",
              "      <td>[4],[5, 0]</td>\n",
              "      <td>[1],[2]</td>\n",
              "      <td>[],[]</td>\n",
              "    </tr>\n",
              "    <tr>\n",
              "      <th>1</th>\n",
              "      <td>[],[]</td>\n",
              "      <td>[],[]</td>\n",
              "      <td>[],[]</td>\n",
              "    </tr>\n",
              "    <tr>\n",
              "      <th>2</th>\n",
              "      <td>[1],[2]</td>\n",
              "      <td>[],[]</td>\n",
              "      <td>[3],[0, 5]</td>\n",
              "    </tr>\n",
              "    <tr>\n",
              "      <th>3</th>\n",
              "      <td>[3],[0, 5]</td>\n",
              "      <td>[1],[2]</td>\n",
              "      <td>[],[]</td>\n",
              "    </tr>\n",
              "  </tbody>\n",
              "</table>\n",
              "</div>\n",
              "      <button class=\"colab-df-convert\" onclick=\"convertToInteractive('df-1660a07c-b7bd-46db-bb0b-2eb50f88fd96')\"\n",
              "              title=\"Convert this dataframe to an interactive table.\"\n",
              "              style=\"display:none;\">\n",
              "        \n",
              "  <svg xmlns=\"http://www.w3.org/2000/svg\" height=\"24px\"viewBox=\"0 0 24 24\"\n",
              "       width=\"24px\">\n",
              "    <path d=\"M0 0h24v24H0V0z\" fill=\"none\"/>\n",
              "    <path d=\"M18.56 5.44l.94 2.06.94-2.06 2.06-.94-2.06-.94-.94-2.06-.94 2.06-2.06.94zm-11 1L8.5 8.5l.94-2.06 2.06-.94-2.06-.94L8.5 2.5l-.94 2.06-2.06.94zm10 10l.94 2.06.94-2.06 2.06-.94-2.06-.94-.94-2.06-.94 2.06-2.06.94z\"/><path d=\"M17.41 7.96l-1.37-1.37c-.4-.4-.92-.59-1.43-.59-.52 0-1.04.2-1.43.59L10.3 9.45l-7.72 7.72c-.78.78-.78 2.05 0 2.83L4 21.41c.39.39.9.59 1.41.59.51 0 1.02-.2 1.41-.59l7.78-7.78 2.81-2.81c.8-.78.8-2.07 0-2.86zM5.41 20L4 18.59l7.72-7.72 1.47 1.35L5.41 20z\"/>\n",
              "  </svg>\n",
              "      </button>\n",
              "      \n",
              "  <style>\n",
              "    .colab-df-container {\n",
              "      display:flex;\n",
              "      flex-wrap:wrap;\n",
              "      gap: 12px;\n",
              "    }\n",
              "\n",
              "    .colab-df-convert {\n",
              "      background-color: #E8F0FE;\n",
              "      border: none;\n",
              "      border-radius: 50%;\n",
              "      cursor: pointer;\n",
              "      display: none;\n",
              "      fill: #1967D2;\n",
              "      height: 32px;\n",
              "      padding: 0 0 0 0;\n",
              "      width: 32px;\n",
              "    }\n",
              "\n",
              "    .colab-df-convert:hover {\n",
              "      background-color: #E2EBFA;\n",
              "      box-shadow: 0px 1px 2px rgba(60, 64, 67, 0.3), 0px 1px 3px 1px rgba(60, 64, 67, 0.15);\n",
              "      fill: #174EA6;\n",
              "    }\n",
              "\n",
              "    [theme=dark] .colab-df-convert {\n",
              "      background-color: #3B4455;\n",
              "      fill: #D2E3FC;\n",
              "    }\n",
              "\n",
              "    [theme=dark] .colab-df-convert:hover {\n",
              "      background-color: #434B5C;\n",
              "      box-shadow: 0px 1px 3px 1px rgba(0, 0, 0, 0.15);\n",
              "      filter: drop-shadow(0px 1px 2px rgba(0, 0, 0, 0.3));\n",
              "      fill: #FFFFFF;\n",
              "    }\n",
              "  </style>\n",
              "\n",
              "      <script>\n",
              "        const buttonEl =\n",
              "          document.querySelector('#df-1660a07c-b7bd-46db-bb0b-2eb50f88fd96 button.colab-df-convert');\n",
              "        buttonEl.style.display =\n",
              "          google.colab.kernel.accessAllowed ? 'block' : 'none';\n",
              "\n",
              "        async function convertToInteractive(key) {\n",
              "          const element = document.querySelector('#df-1660a07c-b7bd-46db-bb0b-2eb50f88fd96');\n",
              "          const dataTable =\n",
              "            await google.colab.kernel.invokeFunction('convertToInteractive',\n",
              "                                                     [key], {});\n",
              "          if (!dataTable) return;\n",
              "\n",
              "          const docLinkHtml = 'Like what you see? Visit the ' +\n",
              "            '<a target=\"_blank\" href=https://colab.research.google.com/notebooks/data_table.ipynb>data table notebook</a>'\n",
              "            + ' to learn more about interactive tables.';\n",
              "          element.innerHTML = '';\n",
              "          dataTable['output_type'] = 'display_data';\n",
              "          await google.colab.output.renderOutput(dataTable, element);\n",
              "          const docLink = document.createElement('div');\n",
              "          docLink.innerHTML = docLinkHtml;\n",
              "          element.appendChild(docLink);\n",
              "        }\n",
              "      </script>\n",
              "    </div>\n",
              "  </div>\n",
              "  "
            ],
            "text/plain": [
              "      Estados        a           b\n",
              "0  [4],[5, 0]  [1],[2]       [],[]\n",
              "1       [],[]    [],[]       [],[]\n",
              "2     [1],[2]    [],[]  [3],[0, 5]\n",
              "3  [3],[0, 5]  [1],[2]       [],[]"
            ]
          },
          "metadata": {},
          "execution_count": 19
        }
      ],
      "source": [
        "import pandas as pd\n",
        "\n",
        "#Se crea\n",
        "tablaTD = pd.DataFrame()\n",
        "tablaTD['Estados']= []\n",
        "tablaTD[\"a\"] = []\n",
        "tablaTD[\"b\"] = []\n",
        "\n",
        "#tablaTD.set_index(\"\",inplace = True)\n",
        "#Se inicializa\n",
        "tablaTD.loc[0]=[cEps[prueba.s],Clausura(),Clausura()]\n",
        "\n",
        "\n",
        "\n",
        "i=prueba.s #indice de tablaTND\n",
        "j=0 #indice de tablaTD\n",
        "\n",
        "#Checar a y b\n",
        "if tablaTND[\"a\"][i]:\n",
        "  tablaTD[\"a\"][j].clausura1 += tablaTND[\"a\"][i]\n",
        "if tablaTND[\"b\"][i]:\n",
        "  tablaTD[\"b\"][j].clausura1 += tablaTND[\"b\"][i]\n",
        "E2(tablaTND[\"e\"][i])\n",
        "\n",
        "\n",
        "\n",
        "pila = []\n",
        "pila.append(tablaTD[\"a\"][j])\n",
        "pila.append(tablaTD[\"b\"][j])\n",
        "pila=aplanar(pila)\n",
        "while pila:\n",
        "  q=pila.pop()\n",
        "  if(not(q.isEmpty())):\n",
        "    j+=1\n",
        "    tablaTD.loc[j]=[q,Clausura(),Clausura()]\n",
        "\n",
        "    for x in q.clausura1:\n",
        "      i=x\n",
        "      #Checar a y b\n",
        "      if tablaTND[\"a\"][i]:\n",
        "        tablaTD[\"a\"][j].clausura1 += tablaTND[\"a\"][i]\n",
        "      if tablaTND[\"b\"][i]:\n",
        "        tablaTD[\"b\"][j].clausura1 += tablaTND[\"b\"][i]\n",
        "      E2(tablaTND[\"e\"][i])\n",
        "\n",
        "    #Debemos checar que no tome repetidos o se va a ciclar, ni vacios\n",
        "\n",
        "    bol=True\n",
        "    for x in range(len(tablaTD[\"Estados\"])):\n",
        "      if tablaTD[\"a\"][j].clausura1 == tablaTD[\"Estados\"][x].clausura1 and tablaTD[\"a\"][j].clausura2 == tablaTD[\"Estados\"][x].clausura2:\n",
        "        bol=False\n",
        "    if bol:\n",
        "      pila.append(tablaTD[\"a\"][j])\n",
        "\n",
        "    bol=True\n",
        "    for x in range(len(tablaTD[\"Estados\"])):\n",
        "      if tablaTD[\"b\"][j].clausura1 == tablaTD[\"Estados\"][x].clausura1 and tablaTD[\"b\"][j].clausura2 == tablaTD[\"Estados\"][x].clausura2:\n",
        "        bol=False\n",
        "    if bol:\n",
        "      pila.append(tablaTD[\"b\"][j])\n",
        "    pila=aplanar(pila)\n",
        "\n",
        "    #######################################33\n",
        "  else:\n",
        "    j+=1\n",
        "    tablaTD.loc[j]=[q,q,q]\n",
        "\n",
        "tablaTD\n"
      ]
    },
    {
      "cell_type": "code",
      "execution_count": 20,
      "metadata": {
        "id": "SGSpSCW8RDki"
      },
      "outputs": [],
      "source": [
        "#tablaTD.drop_duplicates(inplace = True)\n"
      ]
    },
    {
      "cell_type": "markdown",
      "metadata": {
        "id": "p7Val-s-MA9g"
      },
      "source": [
        "## Eliminar repetidos"
      ]
    },
    {
      "cell_type": "code",
      "execution_count": 21,
      "metadata": {
        "id": "bCYP5YX9MDgZ",
        "colab": {
          "base_uri": "https://localhost:8080/",
          "height": 0
        },
        "outputId": "3db0c90d-9c42-4cfb-811d-bcbbb6eb27b0"
      },
      "outputs": [
        {
          "output_type": "execute_result",
          "data": {
            "text/html": [
              "\n",
              "  <div id=\"df-6352a729-3a93-43ee-9f1a-925328ffcbfe\">\n",
              "    <div class=\"colab-df-container\">\n",
              "      <div>\n",
              "<style scoped>\n",
              "    .dataframe tbody tr th:only-of-type {\n",
              "        vertical-align: middle;\n",
              "    }\n",
              "\n",
              "    .dataframe tbody tr th {\n",
              "        vertical-align: top;\n",
              "    }\n",
              "\n",
              "    .dataframe thead th {\n",
              "        text-align: right;\n",
              "    }\n",
              "</style>\n",
              "<table border=\"1\" class=\"dataframe\">\n",
              "  <thead>\n",
              "    <tr style=\"text-align: right;\">\n",
              "      <th></th>\n",
              "      <th>Estados</th>\n",
              "      <th>a</th>\n",
              "      <th>b</th>\n",
              "    </tr>\n",
              "  </thead>\n",
              "  <tbody>\n",
              "    <tr>\n",
              "      <th>0</th>\n",
              "      <td>[4],[5, 0]</td>\n",
              "      <td>[1],[2]</td>\n",
              "      <td>[],[]</td>\n",
              "    </tr>\n",
              "    <tr>\n",
              "      <th>1</th>\n",
              "      <td>[],[]</td>\n",
              "      <td>[],[]</td>\n",
              "      <td>[],[]</td>\n",
              "    </tr>\n",
              "    <tr>\n",
              "      <th>2</th>\n",
              "      <td>[1],[2]</td>\n",
              "      <td>[],[]</td>\n",
              "      <td>[3],[0, 5]</td>\n",
              "    </tr>\n",
              "    <tr>\n",
              "      <th>3</th>\n",
              "      <td>[3],[0, 5]</td>\n",
              "      <td>[1],[2]</td>\n",
              "      <td>[],[]</td>\n",
              "    </tr>\n",
              "  </tbody>\n",
              "</table>\n",
              "</div>\n",
              "      <button class=\"colab-df-convert\" onclick=\"convertToInteractive('df-6352a729-3a93-43ee-9f1a-925328ffcbfe')\"\n",
              "              title=\"Convert this dataframe to an interactive table.\"\n",
              "              style=\"display:none;\">\n",
              "        \n",
              "  <svg xmlns=\"http://www.w3.org/2000/svg\" height=\"24px\"viewBox=\"0 0 24 24\"\n",
              "       width=\"24px\">\n",
              "    <path d=\"M0 0h24v24H0V0z\" fill=\"none\"/>\n",
              "    <path d=\"M18.56 5.44l.94 2.06.94-2.06 2.06-.94-2.06-.94-.94-2.06-.94 2.06-2.06.94zm-11 1L8.5 8.5l.94-2.06 2.06-.94-2.06-.94L8.5 2.5l-.94 2.06-2.06.94zm10 10l.94 2.06.94-2.06 2.06-.94-2.06-.94-.94-2.06-.94 2.06-2.06.94z\"/><path d=\"M17.41 7.96l-1.37-1.37c-.4-.4-.92-.59-1.43-.59-.52 0-1.04.2-1.43.59L10.3 9.45l-7.72 7.72c-.78.78-.78 2.05 0 2.83L4 21.41c.39.39.9.59 1.41.59.51 0 1.02-.2 1.41-.59l7.78-7.78 2.81-2.81c.8-.78.8-2.07 0-2.86zM5.41 20L4 18.59l7.72-7.72 1.47 1.35L5.41 20z\"/>\n",
              "  </svg>\n",
              "      </button>\n",
              "      \n",
              "  <style>\n",
              "    .colab-df-container {\n",
              "      display:flex;\n",
              "      flex-wrap:wrap;\n",
              "      gap: 12px;\n",
              "    }\n",
              "\n",
              "    .colab-df-convert {\n",
              "      background-color: #E8F0FE;\n",
              "      border: none;\n",
              "      border-radius: 50%;\n",
              "      cursor: pointer;\n",
              "      display: none;\n",
              "      fill: #1967D2;\n",
              "      height: 32px;\n",
              "      padding: 0 0 0 0;\n",
              "      width: 32px;\n",
              "    }\n",
              "\n",
              "    .colab-df-convert:hover {\n",
              "      background-color: #E2EBFA;\n",
              "      box-shadow: 0px 1px 2px rgba(60, 64, 67, 0.3), 0px 1px 3px 1px rgba(60, 64, 67, 0.15);\n",
              "      fill: #174EA6;\n",
              "    }\n",
              "\n",
              "    [theme=dark] .colab-df-convert {\n",
              "      background-color: #3B4455;\n",
              "      fill: #D2E3FC;\n",
              "    }\n",
              "\n",
              "    [theme=dark] .colab-df-convert:hover {\n",
              "      background-color: #434B5C;\n",
              "      box-shadow: 0px 1px 3px 1px rgba(0, 0, 0, 0.15);\n",
              "      filter: drop-shadow(0px 1px 2px rgba(0, 0, 0, 0.3));\n",
              "      fill: #FFFFFF;\n",
              "    }\n",
              "  </style>\n",
              "\n",
              "      <script>\n",
              "        const buttonEl =\n",
              "          document.querySelector('#df-6352a729-3a93-43ee-9f1a-925328ffcbfe button.colab-df-convert');\n",
              "        buttonEl.style.display =\n",
              "          google.colab.kernel.accessAllowed ? 'block' : 'none';\n",
              "\n",
              "        async function convertToInteractive(key) {\n",
              "          const element = document.querySelector('#df-6352a729-3a93-43ee-9f1a-925328ffcbfe');\n",
              "          const dataTable =\n",
              "            await google.colab.kernel.invokeFunction('convertToInteractive',\n",
              "                                                     [key], {});\n",
              "          if (!dataTable) return;\n",
              "\n",
              "          const docLinkHtml = 'Like what you see? Visit the ' +\n",
              "            '<a target=\"_blank\" href=https://colab.research.google.com/notebooks/data_table.ipynb>data table notebook</a>'\n",
              "            + ' to learn more about interactive tables.';\n",
              "          element.innerHTML = '';\n",
              "          dataTable['output_type'] = 'display_data';\n",
              "          await google.colab.output.renderOutput(dataTable, element);\n",
              "          const docLink = document.createElement('div');\n",
              "          docLink.innerHTML = docLinkHtml;\n",
              "          element.appendChild(docLink);\n",
              "        }\n",
              "      </script>\n",
              "    </div>\n",
              "  </div>\n",
              "  "
            ],
            "text/plain": [
              "      Estados        a           b\n",
              "0  [4],[5, 0]  [1],[2]       [],[]\n",
              "1       [],[]    [],[]       [],[]\n",
              "2     [1],[2]    [],[]  [3],[0, 5]\n",
              "3  [3],[0, 5]  [1],[2]       [],[]"
            ]
          },
          "metadata": {},
          "execution_count": 21
        }
      ],
      "source": [
        "lista = []\n",
        "i=0\n",
        "for x in tablaTD[\"Estados\"]:\n",
        "  li=str(x.clausura1)+str(x.clausura2)\n",
        "  if not li in lista:\n",
        "    lista.append(li)\n",
        "  else:\n",
        "    tablaTD = tablaTD.drop(i,axis=0)\n",
        "  i+=1\n",
        "\n",
        "\n",
        "tablaTD\n"
      ]
    },
    {
      "cell_type": "markdown",
      "metadata": {
        "id": "M6G3yh91dO_y"
      },
      "source": [
        "## Guardar los estados en una lista"
      ]
    },
    {
      "cell_type": "code",
      "execution_count": 22,
      "metadata": {
        "id": "1xc4TSRkcqAr"
      },
      "outputs": [],
      "source": [
        "estados=[]\n",
        "for x in tablaTD.index:\n",
        "  if not tablaTD[\"Estados\"][x].isEmpty():\n",
        "    estados.append(tablaTD[\"Estados\"][x])\n",
        "\n",
        "\n"
      ]
    },
    {
      "cell_type": "markdown",
      "metadata": {
        "id": "xv-I39_6bxj8"
      },
      "source": [
        "DEBO ELIMINAR DONDE A Y B ESTÁN VACÍOS"
      ]
    },
    {
      "cell_type": "code",
      "execution_count": 23,
      "metadata": {
        "id": "N9ta9oDcbw47",
        "colab": {
          "base_uri": "https://localhost:8080/",
          "height": 0
        },
        "outputId": "228d676c-74d4-40db-d41e-a310ee4502af"
      },
      "outputs": [
        {
          "output_type": "execute_result",
          "data": {
            "text/html": [
              "\n",
              "  <div id=\"df-02d70f10-c2ba-43f3-ab8b-58ca23699957\">\n",
              "    <div class=\"colab-df-container\">\n",
              "      <div>\n",
              "<style scoped>\n",
              "    .dataframe tbody tr th:only-of-type {\n",
              "        vertical-align: middle;\n",
              "    }\n",
              "\n",
              "    .dataframe tbody tr th {\n",
              "        vertical-align: top;\n",
              "    }\n",
              "\n",
              "    .dataframe thead th {\n",
              "        text-align: right;\n",
              "    }\n",
              "</style>\n",
              "<table border=\"1\" class=\"dataframe\">\n",
              "  <thead>\n",
              "    <tr style=\"text-align: right;\">\n",
              "      <th></th>\n",
              "      <th>Estados</th>\n",
              "      <th>a</th>\n",
              "      <th>b</th>\n",
              "    </tr>\n",
              "  </thead>\n",
              "  <tbody>\n",
              "    <tr>\n",
              "      <th>0</th>\n",
              "      <td>[4],[5, 0]</td>\n",
              "      <td>[1],[2]</td>\n",
              "      <td>[],[]</td>\n",
              "    </tr>\n",
              "    <tr>\n",
              "      <th>2</th>\n",
              "      <td>[1],[2]</td>\n",
              "      <td>[],[]</td>\n",
              "      <td>[3],[0, 5]</td>\n",
              "    </tr>\n",
              "    <tr>\n",
              "      <th>3</th>\n",
              "      <td>[3],[0, 5]</td>\n",
              "      <td>[1],[2]</td>\n",
              "      <td>[],[]</td>\n",
              "    </tr>\n",
              "  </tbody>\n",
              "</table>\n",
              "</div>\n",
              "      <button class=\"colab-df-convert\" onclick=\"convertToInteractive('df-02d70f10-c2ba-43f3-ab8b-58ca23699957')\"\n",
              "              title=\"Convert this dataframe to an interactive table.\"\n",
              "              style=\"display:none;\">\n",
              "        \n",
              "  <svg xmlns=\"http://www.w3.org/2000/svg\" height=\"24px\"viewBox=\"0 0 24 24\"\n",
              "       width=\"24px\">\n",
              "    <path d=\"M0 0h24v24H0V0z\" fill=\"none\"/>\n",
              "    <path d=\"M18.56 5.44l.94 2.06.94-2.06 2.06-.94-2.06-.94-.94-2.06-.94 2.06-2.06.94zm-11 1L8.5 8.5l.94-2.06 2.06-.94-2.06-.94L8.5 2.5l-.94 2.06-2.06.94zm10 10l.94 2.06.94-2.06 2.06-.94-2.06-.94-.94-2.06-.94 2.06-2.06.94z\"/><path d=\"M17.41 7.96l-1.37-1.37c-.4-.4-.92-.59-1.43-.59-.52 0-1.04.2-1.43.59L10.3 9.45l-7.72 7.72c-.78.78-.78 2.05 0 2.83L4 21.41c.39.39.9.59 1.41.59.51 0 1.02-.2 1.41-.59l7.78-7.78 2.81-2.81c.8-.78.8-2.07 0-2.86zM5.41 20L4 18.59l7.72-7.72 1.47 1.35L5.41 20z\"/>\n",
              "  </svg>\n",
              "      </button>\n",
              "      \n",
              "  <style>\n",
              "    .colab-df-container {\n",
              "      display:flex;\n",
              "      flex-wrap:wrap;\n",
              "      gap: 12px;\n",
              "    }\n",
              "\n",
              "    .colab-df-convert {\n",
              "      background-color: #E8F0FE;\n",
              "      border: none;\n",
              "      border-radius: 50%;\n",
              "      cursor: pointer;\n",
              "      display: none;\n",
              "      fill: #1967D2;\n",
              "      height: 32px;\n",
              "      padding: 0 0 0 0;\n",
              "      width: 32px;\n",
              "    }\n",
              "\n",
              "    .colab-df-convert:hover {\n",
              "      background-color: #E2EBFA;\n",
              "      box-shadow: 0px 1px 2px rgba(60, 64, 67, 0.3), 0px 1px 3px 1px rgba(60, 64, 67, 0.15);\n",
              "      fill: #174EA6;\n",
              "    }\n",
              "\n",
              "    [theme=dark] .colab-df-convert {\n",
              "      background-color: #3B4455;\n",
              "      fill: #D2E3FC;\n",
              "    }\n",
              "\n",
              "    [theme=dark] .colab-df-convert:hover {\n",
              "      background-color: #434B5C;\n",
              "      box-shadow: 0px 1px 3px 1px rgba(0, 0, 0, 0.15);\n",
              "      filter: drop-shadow(0px 1px 2px rgba(0, 0, 0, 0.3));\n",
              "      fill: #FFFFFF;\n",
              "    }\n",
              "  </style>\n",
              "\n",
              "      <script>\n",
              "        const buttonEl =\n",
              "          document.querySelector('#df-02d70f10-c2ba-43f3-ab8b-58ca23699957 button.colab-df-convert');\n",
              "        buttonEl.style.display =\n",
              "          google.colab.kernel.accessAllowed ? 'block' : 'none';\n",
              "\n",
              "        async function convertToInteractive(key) {\n",
              "          const element = document.querySelector('#df-02d70f10-c2ba-43f3-ab8b-58ca23699957');\n",
              "          const dataTable =\n",
              "            await google.colab.kernel.invokeFunction('convertToInteractive',\n",
              "                                                     [key], {});\n",
              "          if (!dataTable) return;\n",
              "\n",
              "          const docLinkHtml = 'Like what you see? Visit the ' +\n",
              "            '<a target=\"_blank\" href=https://colab.research.google.com/notebooks/data_table.ipynb>data table notebook</a>'\n",
              "            + ' to learn more about interactive tables.';\n",
              "          element.innerHTML = '';\n",
              "          dataTable['output_type'] = 'display_data';\n",
              "          await google.colab.output.renderOutput(dataTable, element);\n",
              "          const docLink = document.createElement('div');\n",
              "          docLink.innerHTML = docLinkHtml;\n",
              "          element.appendChild(docLink);\n",
              "        }\n",
              "      </script>\n",
              "    </div>\n",
              "  </div>\n",
              "  "
            ],
            "text/plain": [
              "      Estados        a           b\n",
              "0  [4],[5, 0]  [1],[2]       [],[]\n",
              "2     [1],[2]    [],[]  [3],[0, 5]\n",
              "3  [3],[0, 5]  [1],[2]       [],[]"
            ]
          },
          "metadata": {},
          "execution_count": 23
        }
      ],
      "source": [
        "for x in tablaTD.index:\n",
        "  if tablaTD[\"Estados\"][x].isEmpty() :\n",
        "    tablaTD = tablaTD.drop(x,axis=0)\n",
        "tablaTD\n"
      ]
    },
    {
      "cell_type": "markdown",
      "source": [
        "Convertir de nuevos los indices"
      ],
      "metadata": {
        "id": "eqU_xWfFlNs9"
      }
    },
    {
      "cell_type": "code",
      "source": [
        "tablaTD = tablaTD.reset_index(drop=True)"
      ],
      "metadata": {
        "id": "1eXCBLo1lNFO"
      },
      "execution_count": 24,
      "outputs": []
    },
    {
      "cell_type": "markdown",
      "metadata": {
        "id": "bM1R7g2xUed5"
      },
      "source": [
        "## Crear el diccionario para hacer el cambio de estados"
      ]
    },
    {
      "cell_type": "code",
      "execution_count": 25,
      "metadata": {
        "id": "9GABFarFI7rX",
        "colab": {
          "base_uri": "https://localhost:8080/"
        },
        "outputId": "de1200b1-16b7-45ad-aeaa-0c4a153a7f59"
      },
      "outputs": [
        {
          "output_type": "execute_result",
          "data": {
            "text/plain": [
              "{'[1][2]': 1, '[3][0, 5]': 2, '[4][5, 0]': 0, '[][]': 'sumidero'}"
            ]
          },
          "metadata": {},
          "execution_count": 25
        }
      ],
      "source": [
        "dictionary = {}\n",
        "m=0\n",
        "for x in estados:\n",
        "  dictionary[str(x.clausura1)+str(x.clausura2)] = m\n",
        "  m+=1\n",
        "dictionary[\"[][]\"]=\"sumidero\"\n",
        "\n",
        "dictionary"
      ]
    },
    {
      "cell_type": "code",
      "execution_count": 26,
      "metadata": {
        "id": "g_Ds7wCFgX9I",
        "colab": {
          "base_uri": "https://localhost:8080/",
          "height": 0
        },
        "outputId": "7207451f-fc3f-4b1a-e82c-37f9afcaa2e8"
      },
      "outputs": [
        {
          "output_type": "execute_result",
          "data": {
            "text/html": [
              "\n",
              "  <div id=\"df-bbe256b9-91b2-4050-8047-25aca6eecc6b\">\n",
              "    <div class=\"colab-df-container\">\n",
              "      <div>\n",
              "<style scoped>\n",
              "    .dataframe tbody tr th:only-of-type {\n",
              "        vertical-align: middle;\n",
              "    }\n",
              "\n",
              "    .dataframe tbody tr th {\n",
              "        vertical-align: top;\n",
              "    }\n",
              "\n",
              "    .dataframe thead th {\n",
              "        text-align: right;\n",
              "    }\n",
              "</style>\n",
              "<table border=\"1\" class=\"dataframe\">\n",
              "  <thead>\n",
              "    <tr style=\"text-align: right;\">\n",
              "      <th></th>\n",
              "      <th>Estados</th>\n",
              "      <th>a</th>\n",
              "      <th>b</th>\n",
              "    </tr>\n",
              "  </thead>\n",
              "  <tbody>\n",
              "    <tr>\n",
              "      <th>0</th>\n",
              "      <td>[4],[5, 0]</td>\n",
              "      <td>[1],[2]</td>\n",
              "      <td>[],[]</td>\n",
              "    </tr>\n",
              "    <tr>\n",
              "      <th>1</th>\n",
              "      <td>[1],[2]</td>\n",
              "      <td>[],[]</td>\n",
              "      <td>[3],[0, 5]</td>\n",
              "    </tr>\n",
              "    <tr>\n",
              "      <th>2</th>\n",
              "      <td>[3],[0, 5]</td>\n",
              "      <td>[1],[2]</td>\n",
              "      <td>[],[]</td>\n",
              "    </tr>\n",
              "  </tbody>\n",
              "</table>\n",
              "</div>\n",
              "      <button class=\"colab-df-convert\" onclick=\"convertToInteractive('df-bbe256b9-91b2-4050-8047-25aca6eecc6b')\"\n",
              "              title=\"Convert this dataframe to an interactive table.\"\n",
              "              style=\"display:none;\">\n",
              "        \n",
              "  <svg xmlns=\"http://www.w3.org/2000/svg\" height=\"24px\"viewBox=\"0 0 24 24\"\n",
              "       width=\"24px\">\n",
              "    <path d=\"M0 0h24v24H0V0z\" fill=\"none\"/>\n",
              "    <path d=\"M18.56 5.44l.94 2.06.94-2.06 2.06-.94-2.06-.94-.94-2.06-.94 2.06-2.06.94zm-11 1L8.5 8.5l.94-2.06 2.06-.94-2.06-.94L8.5 2.5l-.94 2.06-2.06.94zm10 10l.94 2.06.94-2.06 2.06-.94-2.06-.94-.94-2.06-.94 2.06-2.06.94z\"/><path d=\"M17.41 7.96l-1.37-1.37c-.4-.4-.92-.59-1.43-.59-.52 0-1.04.2-1.43.59L10.3 9.45l-7.72 7.72c-.78.78-.78 2.05 0 2.83L4 21.41c.39.39.9.59 1.41.59.51 0 1.02-.2 1.41-.59l7.78-7.78 2.81-2.81c.8-.78.8-2.07 0-2.86zM5.41 20L4 18.59l7.72-7.72 1.47 1.35L5.41 20z\"/>\n",
              "  </svg>\n",
              "      </button>\n",
              "      \n",
              "  <style>\n",
              "    .colab-df-container {\n",
              "      display:flex;\n",
              "      flex-wrap:wrap;\n",
              "      gap: 12px;\n",
              "    }\n",
              "\n",
              "    .colab-df-convert {\n",
              "      background-color: #E8F0FE;\n",
              "      border: none;\n",
              "      border-radius: 50%;\n",
              "      cursor: pointer;\n",
              "      display: none;\n",
              "      fill: #1967D2;\n",
              "      height: 32px;\n",
              "      padding: 0 0 0 0;\n",
              "      width: 32px;\n",
              "    }\n",
              "\n",
              "    .colab-df-convert:hover {\n",
              "      background-color: #E2EBFA;\n",
              "      box-shadow: 0px 1px 2px rgba(60, 64, 67, 0.3), 0px 1px 3px 1px rgba(60, 64, 67, 0.15);\n",
              "      fill: #174EA6;\n",
              "    }\n",
              "\n",
              "    [theme=dark] .colab-df-convert {\n",
              "      background-color: #3B4455;\n",
              "      fill: #D2E3FC;\n",
              "    }\n",
              "\n",
              "    [theme=dark] .colab-df-convert:hover {\n",
              "      background-color: #434B5C;\n",
              "      box-shadow: 0px 1px 3px 1px rgba(0, 0, 0, 0.15);\n",
              "      filter: drop-shadow(0px 1px 2px rgba(0, 0, 0, 0.3));\n",
              "      fill: #FFFFFF;\n",
              "    }\n",
              "  </style>\n",
              "\n",
              "      <script>\n",
              "        const buttonEl =\n",
              "          document.querySelector('#df-bbe256b9-91b2-4050-8047-25aca6eecc6b button.colab-df-convert');\n",
              "        buttonEl.style.display =\n",
              "          google.colab.kernel.accessAllowed ? 'block' : 'none';\n",
              "\n",
              "        async function convertToInteractive(key) {\n",
              "          const element = document.querySelector('#df-bbe256b9-91b2-4050-8047-25aca6eecc6b');\n",
              "          const dataTable =\n",
              "            await google.colab.kernel.invokeFunction('convertToInteractive',\n",
              "                                                     [key], {});\n",
              "          if (!dataTable) return;\n",
              "\n",
              "          const docLinkHtml = 'Like what you see? Visit the ' +\n",
              "            '<a target=\"_blank\" href=https://colab.research.google.com/notebooks/data_table.ipynb>data table notebook</a>'\n",
              "            + ' to learn more about interactive tables.';\n",
              "          element.innerHTML = '';\n",
              "          dataTable['output_type'] = 'display_data';\n",
              "          await google.colab.output.renderOutput(dataTable, element);\n",
              "          const docLink = document.createElement('div');\n",
              "          docLink.innerHTML = docLinkHtml;\n",
              "          element.appendChild(docLink);\n",
              "        }\n",
              "      </script>\n",
              "    </div>\n",
              "  </div>\n",
              "  "
            ],
            "text/plain": [
              "      Estados        a           b\n",
              "0  [4],[5, 0]  [1],[2]       [],[]\n",
              "1     [1],[2]    [],[]  [3],[0, 5]\n",
              "2  [3],[0, 5]  [1],[2]       [],[]"
            ]
          },
          "metadata": {},
          "execution_count": 26
        }
      ],
      "source": [
        "tablaTD_copia=tablaTD.copy()\n",
        "automataDeterminista=Automata()\n",
        "tablaTD_copia"
      ]
    },
    {
      "cell_type": "markdown",
      "metadata": {
        "id": "diUMS9ANWwIv"
      },
      "source": [
        "## Cambiar tabla del automata determinista a nuevos estados"
      ]
    },
    {
      "cell_type": "code",
      "execution_count": 27,
      "metadata": {
        "id": "Q1SYwoO7UdG0",
        "colab": {
          "base_uri": "https://localhost:8080/",
          "height": 0
        },
        "outputId": "2263429c-c334-40ad-816a-77d23e2ef8af"
      },
      "outputs": [
        {
          "output_type": "execute_result",
          "data": {
            "text/html": [
              "\n",
              "  <div id=\"df-6fba4917-761e-41ed-9225-a4679bfbfec0\">\n",
              "    <div class=\"colab-df-container\">\n",
              "      <div>\n",
              "<style scoped>\n",
              "    .dataframe tbody tr th:only-of-type {\n",
              "        vertical-align: middle;\n",
              "    }\n",
              "\n",
              "    .dataframe tbody tr th {\n",
              "        vertical-align: top;\n",
              "    }\n",
              "\n",
              "    .dataframe thead th {\n",
              "        text-align: right;\n",
              "    }\n",
              "</style>\n",
              "<table border=\"1\" class=\"dataframe\">\n",
              "  <thead>\n",
              "    <tr style=\"text-align: right;\">\n",
              "      <th></th>\n",
              "      <th>Estados</th>\n",
              "      <th>a</th>\n",
              "      <th>b</th>\n",
              "    </tr>\n",
              "  </thead>\n",
              "  <tbody>\n",
              "    <tr>\n",
              "      <th>0</th>\n",
              "      <td>0</td>\n",
              "      <td>1</td>\n",
              "      <td>sumidero</td>\n",
              "    </tr>\n",
              "    <tr>\n",
              "      <th>1</th>\n",
              "      <td>1</td>\n",
              "      <td>sumidero</td>\n",
              "      <td>2</td>\n",
              "    </tr>\n",
              "    <tr>\n",
              "      <th>2</th>\n",
              "      <td>2</td>\n",
              "      <td>1</td>\n",
              "      <td>sumidero</td>\n",
              "    </tr>\n",
              "  </tbody>\n",
              "</table>\n",
              "</div>\n",
              "      <button class=\"colab-df-convert\" onclick=\"convertToInteractive('df-6fba4917-761e-41ed-9225-a4679bfbfec0')\"\n",
              "              title=\"Convert this dataframe to an interactive table.\"\n",
              "              style=\"display:none;\">\n",
              "        \n",
              "  <svg xmlns=\"http://www.w3.org/2000/svg\" height=\"24px\"viewBox=\"0 0 24 24\"\n",
              "       width=\"24px\">\n",
              "    <path d=\"M0 0h24v24H0V0z\" fill=\"none\"/>\n",
              "    <path d=\"M18.56 5.44l.94 2.06.94-2.06 2.06-.94-2.06-.94-.94-2.06-.94 2.06-2.06.94zm-11 1L8.5 8.5l.94-2.06 2.06-.94-2.06-.94L8.5 2.5l-.94 2.06-2.06.94zm10 10l.94 2.06.94-2.06 2.06-.94-2.06-.94-.94-2.06-.94 2.06-2.06.94z\"/><path d=\"M17.41 7.96l-1.37-1.37c-.4-.4-.92-.59-1.43-.59-.52 0-1.04.2-1.43.59L10.3 9.45l-7.72 7.72c-.78.78-.78 2.05 0 2.83L4 21.41c.39.39.9.59 1.41.59.51 0 1.02-.2 1.41-.59l7.78-7.78 2.81-2.81c.8-.78.8-2.07 0-2.86zM5.41 20L4 18.59l7.72-7.72 1.47 1.35L5.41 20z\"/>\n",
              "  </svg>\n",
              "      </button>\n",
              "      \n",
              "  <style>\n",
              "    .colab-df-container {\n",
              "      display:flex;\n",
              "      flex-wrap:wrap;\n",
              "      gap: 12px;\n",
              "    }\n",
              "\n",
              "    .colab-df-convert {\n",
              "      background-color: #E8F0FE;\n",
              "      border: none;\n",
              "      border-radius: 50%;\n",
              "      cursor: pointer;\n",
              "      display: none;\n",
              "      fill: #1967D2;\n",
              "      height: 32px;\n",
              "      padding: 0 0 0 0;\n",
              "      width: 32px;\n",
              "    }\n",
              "\n",
              "    .colab-df-convert:hover {\n",
              "      background-color: #E2EBFA;\n",
              "      box-shadow: 0px 1px 2px rgba(60, 64, 67, 0.3), 0px 1px 3px 1px rgba(60, 64, 67, 0.15);\n",
              "      fill: #174EA6;\n",
              "    }\n",
              "\n",
              "    [theme=dark] .colab-df-convert {\n",
              "      background-color: #3B4455;\n",
              "      fill: #D2E3FC;\n",
              "    }\n",
              "\n",
              "    [theme=dark] .colab-df-convert:hover {\n",
              "      background-color: #434B5C;\n",
              "      box-shadow: 0px 1px 3px 1px rgba(0, 0, 0, 0.15);\n",
              "      filter: drop-shadow(0px 1px 2px rgba(0, 0, 0, 0.3));\n",
              "      fill: #FFFFFF;\n",
              "    }\n",
              "  </style>\n",
              "\n",
              "      <script>\n",
              "        const buttonEl =\n",
              "          document.querySelector('#df-6fba4917-761e-41ed-9225-a4679bfbfec0 button.colab-df-convert');\n",
              "        buttonEl.style.display =\n",
              "          google.colab.kernel.accessAllowed ? 'block' : 'none';\n",
              "\n",
              "        async function convertToInteractive(key) {\n",
              "          const element = document.querySelector('#df-6fba4917-761e-41ed-9225-a4679bfbfec0');\n",
              "          const dataTable =\n",
              "            await google.colab.kernel.invokeFunction('convertToInteractive',\n",
              "                                                     [key], {});\n",
              "          if (!dataTable) return;\n",
              "\n",
              "          const docLinkHtml = 'Like what you see? Visit the ' +\n",
              "            '<a target=\"_blank\" href=https://colab.research.google.com/notebooks/data_table.ipynb>data table notebook</a>'\n",
              "            + ' to learn more about interactive tables.';\n",
              "          element.innerHTML = '';\n",
              "          dataTable['output_type'] = 'display_data';\n",
              "          await google.colab.output.renderOutput(dataTable, element);\n",
              "          const docLink = document.createElement('div');\n",
              "          docLink.innerHTML = docLinkHtml;\n",
              "          element.appendChild(docLink);\n",
              "        }\n",
              "      </script>\n",
              "    </div>\n",
              "  </div>\n",
              "  "
            ],
            "text/plain": [
              "  Estados         a         b\n",
              "0       0         1  sumidero\n",
              "1       1  sumidero         2\n",
              "2       2         1  sumidero"
            ]
          },
          "metadata": {},
          "execution_count": 27
        }
      ],
      "source": [
        "for x in tablaTD:\n",
        "  for i in tablaTD.index: #Aquí lo estaba usando con el tamaño de elementos de tablaTD\n",
        "    tablaTD[x][i] = dictionary[str(tablaTD[x][i].clausura1)+str(tablaTD[x][i].clausura2)]\n",
        "tablaTD"
      ]
    },
    {
      "cell_type": "markdown",
      "metadata": {
        "id": "ZmrjWVPNlol2"
      },
      "source": [
        "## Obtener el estado final e inicial del AFD"
      ]
    },
    {
      "cell_type": "code",
      "execution_count": 28,
      "metadata": {
        "id": "LbBLCvVKfaxx",
        "colab": {
          "base_uri": "https://localhost:8080/"
        },
        "outputId": "554e7a4f-dd4a-42a5-c354-dbe1d3bf1800"
      },
      "outputs": [
        {
          "output_type": "execute_result",
          "data": {
            "text/plain": [
              "[0, 2]"
            ]
          },
          "metadata": {},
          "execution_count": 28
        }
      ],
      "source": [
        "for x in estados:\n",
        "  if (prueba.F[0] in x.clausura1) or (prueba.F[0] in x.clausura2):\n",
        "      automataDeterminista.F.append(dictionary[str(x.clausura1)+str(x.clausura2)])\n",
        "automataDeterminista.s=0\n",
        "automataDeterminista.F"
      ]
    },
    {
      "cell_type": "markdown",
      "metadata": {
        "id": "ct95X0BSnVo2"
      },
      "source": [
        "## Obtener las transiciones del AFD"
      ]
    },
    {
      "cell_type": "code",
      "execution_count": 29,
      "metadata": {
        "id": "X2RhKOtrlyCu",
        "colab": {
          "base_uri": "https://localhost:8080/"
        },
        "outputId": "2831cc13-86ed-4f41-c51d-cfab610afe1f"
      },
      "outputs": [
        {
          "output_type": "execute_result",
          "data": {
            "text/plain": [
              "[[0, 'a', 1],\n",
              " [0, 'b', 'sumidero'],\n",
              " [1, 'a', 'sumidero'],\n",
              " [1, 'b', 2],\n",
              " [2, 'a', 1],\n",
              " [2, 'b', 'sumidero']]"
            ]
          },
          "metadata": {},
          "execution_count": 29
        }
      ],
      "source": [
        "pasosAFD=[]\n",
        "for x in tablaTD.index:\n",
        "  p1=[x,\"a\",tablaTD[\"a\"][x]]\n",
        "  pasosAFD.append(p1)\n",
        "  p2=[x,\"b\",tablaTD[\"b\"][x]]\n",
        "  pasosAFD.append(p2)\n",
        "\n",
        "automataDeterminista.d=pasosAFD\n",
        "pasosAFD"
      ]
    },
    {
      "cell_type": "code",
      "execution_count": 30,
      "metadata": {
        "id": "iTIyrz4dnZ0N"
      },
      "outputs": [],
      "source": [
        "estadosNuevos=[]\n",
        "for x in estados:\n",
        "  estadosNuevos.append(dictionary[str(x.clausura1)+str(x.clausura2)])\n",
        "for x in estadosNuevos:\n",
        "  automataDeterminista.K.append(x)"
      ]
    },
    {
      "cell_type": "code",
      "execution_count": 31,
      "metadata": {
        "id": "ViKcmusSo4Xl",
        "colab": {
          "base_uri": "https://localhost:8080/"
        },
        "outputId": "e091df5f-756b-4b66-b428-6bdf50cc0269"
      },
      "outputs": [
        {
          "output_type": "stream",
          "name": "stdout",
          "text": [
            "El autonoma finito determinista de la expresion regular (a.b)* está definido por: \n",
            "Alfabeto: \n",
            "['e', 'a', 'b']\n",
            "Delta:\n",
            "[[0, 'a', 1], [0, 'b', 'sumidero'], [1, 'a', 'sumidero'], [1, 'b', 2], [2, 'a', 1], [2, 'b', 'sumidero']]\n",
            "Estados: \n",
            "[0, 1, 2]\n",
            "Estado Inicial: \n",
            "0\n",
            "Estados finales: \n",
            "[0, 2]\n"
          ]
        }
      ],
      "source": [
        "print(\"El autonoma finito determinista de la expresion regular \"+P+\" está definido por: \")\n",
        "print(\"Alfabeto: \")\n",
        "print(abc)\n",
        "print(\"Delta:\")\n",
        "print(automataDeterminista.d)\n",
        "print(\"Estados: \")\n",
        "print(automataDeterminista.K)\n",
        "print(\"Estado Inicial: \")\n",
        "print(automataDeterminista.s)\n",
        "print(\"Estados finales: \")\n",
        "print(automataDeterminista.F)\n"
      ]
    },
    {
      "cell_type": "markdown",
      "metadata": {
        "id": "QDmcZT_4Lh2z"
      },
      "source": [
        "# AFD a ER"
      ]
    },
    {
      "cell_type": "code",
      "execution_count": 32,
      "metadata": {
        "id": "0kzurya0pJEs",
        "colab": {
          "base_uri": "https://localhost:8080/",
          "height": 0
        },
        "outputId": "be8377de-c43b-45e3-ecec-d7f439122d9e"
      },
      "outputs": [
        {
          "output_type": "execute_result",
          "data": {
            "application/vnd.google.colaboratory.intrinsic+json": {
              "type": "string"
            },
            "text/plain": [
              "'(((0)|(0).(0)*.(0))|((a)|(0).(0)*.(a)).((0)|(0).(0)*.(a))*.((0)|(0).(0)*.(0)))|(((0)|(0).(0)*.(0))|((a)|(0).(0)*.(a)).((0)|(0).(0)*.(a))*.((b)|(0).(0)*.(0))).(((0)|(0).(0)*.(0))|((a)|(0).(0)*.(a)).((0)|(0).(0)*.(a))*.((b)|(0).(0)*.(0)))*.(((0)|(0).(0)*.(0))|((a)|(0).(0)*.(a)).((0)|(0).(0)*.(a))*.((0)|(0).(0)*.(0)))|(((0)|(0).(0)*.(0))|((a)|(0).(0)*.(a)).((0)|(0).(0)*.(a))*.((b)|(0).(0)*.(0)))|(((0)|(0).(0)*.(0))|((a)|(0).(0)*.(a)).((0)|(0).(0)*.(a))*.((b)|(0).(0)*.(0))).(((0)|(0).(0)*.(0))|((a)|(0).(0)*.(a)).((0)|(0).(0)*.(a))*.((b)|(0).(0)*.(0)))*.(((0)|(0).(0)*.(0))|((a)|(0).(0)*.(a)).((0)|(0).(0)*.(a))*.((b)|(0).(0)*.(0)))'"
            ]
          },
          "metadata": {},
          "execution_count": 32
        }
      ],
      "source": [
        "def R(i,j,k):\n",
        "  if k==0:\n",
        "    if i != j:\n",
        "      if tablaTD[\"a\"][i] == j:\n",
        "        return \"a\"\n",
        "      elif tablaTD[\"b\"][i] == j:\n",
        "        return \"b\"\n",
        "      else:\n",
        "        return \"0\"\n",
        "    else:\n",
        "      if tablaTD[\"a\"][i] == j:\n",
        "        return \"a|e\"\n",
        "      elif tablaTD[\"b\"][i] == j:\n",
        "        return \"b|e\"\n",
        "      else:\n",
        "        return \"0\"\n",
        "  else: \n",
        "    s1=R(i,j,k-1)\n",
        "    s2=R(i,k-1,k-1)\n",
        "    s3=R(k-1,k-1,k-1)\n",
        "    s4=R(k-1,j,k-1)\n",
        "    \"\"\"\n",
        "    sf=\"\"\n",
        "    if(s1!=\"0\"):\n",
        "      sf += \"(\"+s1+\")\"+\"|\"\n",
        "    if(s2!=\"0\"):\n",
        "      sf += \"(\"+s2+\")\"+\".\"\n",
        "    if(s3!=\"0\"):\n",
        "      sf += \"(\"+s3+\")\"+\"*\"\n",
        "    if(s4!=\"0\"):\n",
        "      sf += \"(\"+s4+\")\"\n",
        "    #return sf\n",
        "    \"\"\"\n",
        "    return \"(\"+str(R(i,j,k-1))+\")\"+\"|\"+\"(\"+str(R(i,k-1,k-1))+\")\"+\".\"+\"(\"+str(R(k-1,k-1,k-1))+\")\"+\"*\"+\".(\"+str(R(k-1,j,k-1))+\")\"\n",
        "\n",
        "\n",
        "ER=\"\"\n",
        "tam=len(automataDeterminista.F)\n",
        "for x in automataDeterminista.F:\n",
        "  if(x!=automataDeterminista.F[tam-1]):\n",
        "    ER += R(automataDeterminista.s,x,len(automataDeterminista.K))+\"|\"\n",
        "  else:\n",
        "    ER += R(automataDeterminista.s,x,len(automataDeterminista.K))\n",
        "\n",
        "ER\n",
        "\n"
      ]
    },
    {
      "cell_type": "markdown",
      "source": [
        "# ¿La palabra pertenece a la ER?"
      ],
      "metadata": {
        "id": "PH3fcJqzEJ7T"
      }
    },
    {
      "cell_type": "code",
      "source": [
        "def esPalabra(palabra):\n",
        "  inicial = automataDeterminista.s\n",
        "  estado=inicial\n",
        "  for letra in palabra:\n",
        "    if(tablaTD[letra][estado] == \"sumidero\"):\n",
        "      return \"No es palabra\"\n",
        "    estado=tablaTD[letra][estado]\n",
        "\n",
        "  if estado in automataDeterminista.F:\n",
        "    return \"Sí es palabra\"\n",
        "  else:\n",
        "    return \"No es palabra\"\n"
      ],
      "metadata": {
        "id": "LBydFc2Kn7mP"
      },
      "execution_count": 33,
      "outputs": []
    },
    {
      "cell_type": "code",
      "source": [
        "esPalabra(\"ab\")"
      ],
      "metadata": {
        "colab": {
          "base_uri": "https://localhost:8080/",
          "height": 0
        },
        "id": "dHQFCb0mulJj",
        "outputId": "27eeb5f3-dddf-418b-81e0-bcb1918f454b"
      },
      "execution_count": 34,
      "outputs": [
        {
          "output_type": "execute_result",
          "data": {
            "application/vnd.google.colaboratory.intrinsic+json": {
              "type": "string"
            },
            "text/plain": [
              "'Sí es palabra'"
            ]
          },
          "metadata": {},
          "execution_count": 34
        }
      ]
    },
    {
      "cell_type": "markdown",
      "source": [
        "# Resultados:"
      ],
      "metadata": {
        "id": "2EbDCCKGEViK"
      }
    },
    {
      "cell_type": "code",
      "source": [
        "print(\"El autonoma d¿finito NO determinista de la expresion regular \"+P+\" está definido por: \")\n",
        "print(\"Alfabeto: \")\n",
        "print(abc)\n",
        "print(\"Delta:\")\n",
        "print(prueba.d)\n",
        "print(\"Estados: \")\n",
        "print(prueba.K)\n",
        "print(\"Estado Inicial: \")\n",
        "print(prueba.s)\n",
        "print(\"Estados finales: \")\n",
        "print(prueba.F)"
      ],
      "metadata": {
        "colab": {
          "base_uri": "https://localhost:8080/"
        },
        "id": "WXrYz-DrEXsl",
        "outputId": "9f704a51-a1c2-463b-946b-d586351f7d7f"
      },
      "execution_count": 35,
      "outputs": [
        {
          "output_type": "stream",
          "name": "stdout",
          "text": [
            "El autonoma d¿finito NO determinista de la expresion regular (a.b)* está definido por: \n",
            "Alfabeto: \n",
            "['e', 'a', 'b']\n",
            "Delta:\n",
            "[[0, 'a', 1], [2, 'b', 3], [1, 'e', 2], [4, 'e', 0], [3, 'e', 5], [4, 'e', 5], [3, 'e', 0]]\n",
            "Estados: \n",
            "[0, 1, 2, 3, 4, 5]\n",
            "Estado Inicial: \n",
            "4\n",
            "Estados finales: \n",
            "[5]\n"
          ]
        }
      ]
    },
    {
      "cell_type": "code",
      "source": [
        "print(\"El autonoma finito determinista: \")\n",
        "print(\"Alfabeto: \")\n",
        "print(abc)\n",
        "print(\"Delta:\")\n",
        "print(automataDeterminista.d)\n",
        "print(\"Estados: \")\n",
        "print(automataDeterminista.K)\n",
        "print(\"Estado Inicial: \")\n",
        "print(automataDeterminista.s)\n",
        "print(\"Estados finales: \")\n",
        "print(automataDeterminista.F)\n"
      ],
      "metadata": {
        "colab": {
          "base_uri": "https://localhost:8080/"
        },
        "id": "3WTNuTyPpDoR",
        "outputId": "a345a960-bcfa-4844-8bd0-d3d521467f1a"
      },
      "execution_count": 36,
      "outputs": [
        {
          "output_type": "stream",
          "name": "stdout",
          "text": [
            "El autonoma finito determinista: \n",
            "Alfabeto: \n",
            "['e', 'a', 'b']\n",
            "Delta:\n",
            "[[0, 'a', 1], [0, 'b', 'sumidero'], [1, 'a', 'sumidero'], [1, 'b', 2], [2, 'a', 1], [2, 'b', 'sumidero']]\n",
            "Estados: \n",
            "[0, 1, 2]\n",
            "Estado Inicial: \n",
            "0\n",
            "Estados finales: \n",
            "[0, 2]\n"
          ]
        }
      ]
    },
    {
      "cell_type": "code",
      "source": [
        "print(\"La expresión regular es:\")\n",
        "print(ER)\n"
      ],
      "metadata": {
        "colab": {
          "base_uri": "https://localhost:8080/"
        },
        "id": "CecgOUXs-7Mz",
        "outputId": "9362d5b4-a86d-4217-cbe7-1395eb841458"
      },
      "execution_count": 37,
      "outputs": [
        {
          "output_type": "stream",
          "name": "stdout",
          "text": [
            "La expresión regular es:\n",
            "(((0)|(0).(0)*.(0))|((a)|(0).(0)*.(a)).((0)|(0).(0)*.(a))*.((0)|(0).(0)*.(0)))|(((0)|(0).(0)*.(0))|((a)|(0).(0)*.(a)).((0)|(0).(0)*.(a))*.((b)|(0).(0)*.(0))).(((0)|(0).(0)*.(0))|((a)|(0).(0)*.(a)).((0)|(0).(0)*.(a))*.((b)|(0).(0)*.(0)))*.(((0)|(0).(0)*.(0))|((a)|(0).(0)*.(a)).((0)|(0).(0)*.(a))*.((0)|(0).(0)*.(0)))|(((0)|(0).(0)*.(0))|((a)|(0).(0)*.(a)).((0)|(0).(0)*.(a))*.((b)|(0).(0)*.(0)))|(((0)|(0).(0)*.(0))|((a)|(0).(0)*.(a)).((0)|(0).(0)*.(a))*.((b)|(0).(0)*.(0))).(((0)|(0).(0)*.(0))|((a)|(0).(0)*.(a)).((0)|(0).(0)*.(a))*.((b)|(0).(0)*.(0)))*.(((0)|(0).(0)*.(0))|((a)|(0).(0)*.(a)).((0)|(0).(0)*.(a))*.((b)|(0).(0)*.(0)))\n"
          ]
        }
      ]
    },
    {
      "cell_type": "code",
      "source": [
        "esPalabra(palabra)"
      ],
      "metadata": {
        "colab": {
          "base_uri": "https://localhost:8080/",
          "height": 36
        },
        "id": "C5rwCz15_HBJ",
        "outputId": "f2f6fbb0-2002-4439-ff03-56810f6c34df"
      },
      "execution_count": 38,
      "outputs": [
        {
          "output_type": "execute_result",
          "data": {
            "application/vnd.google.colaboratory.intrinsic+json": {
              "type": "string"
            },
            "text/plain": [
              "'Sí es palabra'"
            ]
          },
          "metadata": {},
          "execution_count": 38
        }
      ]
    }
  ],
  "metadata": {
    "colab": {
      "collapsed_sections": [],
      "name": "Copia de RE-AFND.ipynb",
      "provenance": [],
      "authorship_tag": "ABX9TyOr3yVGoz8EzBp2Bw0qcJrU",
      "include_colab_link": true
    },
    "kernelspec": {
      "display_name": "Python 3",
      "name": "python3"
    },
    "language_info": {
      "name": "python"
    }
  },
  "nbformat": 4,
  "nbformat_minor": 0
}